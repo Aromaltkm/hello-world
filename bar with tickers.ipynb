{
 "cells": [
  {
   "cell_type": "code",
   "execution_count": 3,
   "metadata": {
    "collapsed": true
   },
   "outputs": [],
   "source": [
    "import numpy as np\n",
    "import matplotlib.ticker as ticker\n",
    "import matplotlib.pyplot as plt\n",
    "%matplotlib inline"
   ]
  },
  {
   "cell_type": "code",
   "execution_count": 6,
   "metadata": {
    "collapsed": false
   },
   "outputs": [
    {
     "data": {
      "image/png": "[encoded data removed]",
      "text/plain": [
       "<matplotlib.figure.Figure at 0x198fd017c50>"
      ]
     },
     "metadata": {},
     "output_type": "display_data"
    }
   ],
   "source": [
    "name_list = ('Omar', 'Serguey', 'Max', 'Zhou', 'Abidin')\n",
    "value_list = [87,65,97,50,42]#or np.random.randint(0, 99, size = len(name_list))\n",
    "pos_list = np.arange(len(name_list))#[0,1,2,3]\n",
    "ax = plt.axes()\n",
    "ax.xaxis.set_major_locator(ticker.FixedLocator((pos_list)))\n",
    "ax.xaxis.set_major_formatter(ticker.FixedFormatter((name_list)))\n",
    "plt.bar(pos_list, value_list, color =['r','b','g','y','0.7'] , align = 'center')\n",
    "plt.show()"
   ]
  },
  {
   "cell_type": "code",
   "execution_count": null,
   "metadata": {
    "collapsed": true
   },
   "outputs": [],
   "source": []
  }
 ],
 "metadata": {
  "kernelspec": {
   "display_name": "Python 3",
   "language": "python",
   "name": "python3"
  },
  "language_info": {
   "codemirror_mode": {
    "name": "ipython",
    "version": 3
   },
   "file_extension": ".py",
   "mimetype": "text/x-python",
   "name": "python",
   "nbconvert_exporter": "python",
   "pygments_lexer": "ipython3",
   "version": "3.5.1"
  }
 },
 "nbformat": 4,
 "nbformat_minor": 0
}
